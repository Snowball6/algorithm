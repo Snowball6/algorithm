{
 "cells": [
  {
   "cell_type": "code",
   "execution_count": 47,
   "metadata": {},
   "outputs": [],
   "source": [
    "import pandas as pd\n",
    "import numpy as np\n",
    "import matplotlib.pyplot as plt\n",
    "import seaborn as sns\n",
    "import warnings\n",
    "from sklearn.preprocessing import MinMaxScaler\n",
    "from sklearn.preprocessing import StandardScaler\n",
    "from sklearn.model_selection import train_test_split\n",
    "from sklearn.preprocessing import LabelEncoder \n",
    "from sklearn.linear_model import LinearRegression\n",
    "from sklearn.metrics import mean_absolute_error"
   ]
  },
  {
   "cell_type": "code",
   "execution_count": 6,
   "metadata": {},
   "outputs": [],
   "source": [
    "train=train.drop(labels=[\"Name\",\"Ticket\",\"Cabin\",\"Embarked\"],axis=1)"
   ]
  },
  {
   "cell_type": "code",
   "execution_count": 9,
   "metadata": {},
   "outputs": [],
   "source": [
    "train[\"Age\"] = train[\"Age\"].fillna(np.mean(train[\"Age\"]))"
   ]
  },
  {
   "cell_type": "code",
   "execution_count": 13,
   "metadata": {},
   "outputs": [],
   "source": [
    "lab = LabelEncoder()\n",
    "train[\"Sex\"] = lab.fit_transform(train[\"Sex\"])"
   ]
  },
  {
   "cell_type": "code",
   "execution_count": 15,
   "metadata": {},
   "outputs": [],
   "source": [
    "minmax = MinMaxScaler()"
   ]
  },
  {
   "cell_type": "code",
   "execution_count": 22,
   "metadata": {},
   "outputs": [],
   "source": [
    "train[\"Age\"] = minmax.fit_transform(np.array(train[\"Age\"]).reshape(-1,1))\n",
    "train[\"Fare\"] = minmax.fit_transform(np.array(train[\"Fare\"]).reshape(-1,1))"
   ]
  },
  {
   "cell_type": "code",
   "execution_count": 27,
   "metadata": {},
   "outputs": [],
   "source": [
    "test=test.drop(labels=[\"Name\",\"Ticket\",\"Cabin\",\"Embarked\"],axis=1)"
   ]
  },
  {
   "cell_type": "code",
   "execution_count": 29,
   "metadata": {},
   "outputs": [],
   "source": [
    "test[\"Age\"] = test[\"Age\"].fillna(np.mean(test[\"Age\"]))"
   ]
  },
  {
   "cell_type": "code",
   "execution_count": 31,
   "metadata": {},
   "outputs": [],
   "source": [
    "test[\"Fare\"] = test[\"Fare\"].fillna(np.mean(test[\"Fare\"]))"
   ]
  },
  {
   "cell_type": "code",
   "execution_count": 32,
   "metadata": {},
   "outputs": [],
   "source": [
    "test[\"Age\"] = minmax.fit_transform(np.array(test[\"Age\"]).reshape(-1,1))\n",
    "test[\"Fare\"] = minmax.fit_transform(np.array(test[\"Fare\"]).reshape(-1,1))"
   ]
  },
  {
   "cell_type": "code",
   "execution_count": 35,
   "metadata": {},
   "outputs": [],
   "source": [
    "test[\"Sex\"] = lab.fit_transform(test[\"Sex\"])"
   ]
  },
  {
   "cell_type": "code",
   "execution_count": 38,
   "metadata": {},
   "outputs": [],
   "source": [
    "model = LinearRegression()"
   ]
  },
  {
   "cell_type": "code",
   "execution_count": 39,
   "metadata": {},
   "outputs": [
    {
     "name": "stdout",
     "output_type": "stream",
     "text": [
      "<class 'pandas.core.frame.DataFrame'>\n",
      "RangeIndex: 891 entries, 0 to 890\n",
      "Data columns (total 8 columns):\n",
      " #   Column       Non-Null Count  Dtype  \n",
      "---  ------       --------------  -----  \n",
      " 0   PassengerId  891 non-null    int64  \n",
      " 1   Survived     891 non-null    int64  \n",
      " 2   Pclass       891 non-null    int64  \n",
      " 3   Sex          891 non-null    int32  \n",
      " 4   Age          891 non-null    float64\n",
      " 5   SibSp        891 non-null    int64  \n",
      " 6   Parch        891 non-null    int64  \n",
      " 7   Fare         891 non-null    float64\n",
      "dtypes: float64(2), int32(1), int64(5)\n",
      "memory usage: 52.3 KB\n"
     ]
    }
   ],
   "source": [
    "train.info()"
   ]
  },
  {
   "cell_type": "code",
   "execution_count": 40,
   "metadata": {},
   "outputs": [],
   "source": [
    "X = train.drop(\"Survived\",axis=1)"
   ]
  },
  {
   "cell_type": "code",
   "execution_count": 41,
   "metadata": {},
   "outputs": [],
   "source": [
    "y = train.Survived"
   ]
  },
  {
   "cell_type": "code",
   "execution_count": 42,
   "metadata": {},
   "outputs": [
    {
     "data": {
      "text/plain": [
       "((891, 7), (891,))"
      ]
     },
     "execution_count": 42,
     "metadata": {},
     "output_type": "execute_result"
    }
   ],
   "source": [
    "X.shape,y.shape"
   ]
  },
  {
   "cell_type": "code",
   "execution_count": 43,
   "metadata": {},
   "outputs": [],
   "source": [
    "X_train,X_test,y_train,y_test = train_test_split(X,y,test_size=0.2,random_state=0)"
   ]
  },
  {
   "cell_type": "code",
   "execution_count": 44,
   "metadata": {},
   "outputs": [
    {
     "data": {
      "text/plain": [
       "LinearRegression(copy_X=True, fit_intercept=True, n_jobs=None, normalize=False)"
      ]
     },
     "execution_count": 44,
     "metadata": {},
     "output_type": "execute_result"
    }
   ],
   "source": [
    "model.fit(X_train,y_train)"
   ]
  },
  {
   "cell_type": "code",
   "execution_count": 45,
   "metadata": {},
   "outputs": [],
   "source": [
    "y_pred = model.predict(X_test)"
   ]
  },
  {
   "cell_type": "code",
   "execution_count": 48,
   "metadata": {},
   "outputs": [],
   "source": [
    "mae = mean_absolute_error(y_pred,y_test)"
   ]
  },
  {
   "cell_type": "code",
   "execution_count": 49,
   "metadata": {},
   "outputs": [
    {
     "data": {
      "text/plain": [
       "0.288637827730026"
      ]
     },
     "execution_count": 49,
     "metadata": {},
     "output_type": "execute_result"
    }
   ],
   "source": [
    "mae"
   ]
  },
  {
   "cell_type": "code",
   "execution_count": 50,
   "metadata": {},
   "outputs": [],
   "source": [
    "predict = model.predict(test)"
   ]
  },
  {
   "cell_type": "code",
   "execution_count": 51,
   "metadata": {},
   "outputs": [
    {
     "data": {
      "text/plain": [
       "array([ 7.35589590e-02,  4.56644447e-01,  5.26553673e-02,  1.23403756e-01,\n",
       "        6.09283860e-01,  2.09489138e-01,  6.17965543e-01,  2.34385415e-01,\n",
       "        6.97085526e-01,  7.11860677e-02,  1.01461193e-01,  3.24491487e-01,\n",
       "        9.63395008e-01,  3.27300316e-03,  7.96963765e-01,  7.76344389e-01,\n",
       "        2.31954408e-01,  1.62435557e-01,  5.89034070e-01,  5.18648751e-01,\n",
       "        2.28636071e-01,  2.25701596e-01,  9.45240586e-01,  4.88301640e-01,\n",
       "        8.21860965e-01, -7.52854279e-02,  9.96685489e-01,  1.52474176e-01,\n",
       "        3.59114511e-01,  8.90169368e-03,  8.90715169e-02,  2.14088723e-01,\n",
       "        5.25074773e-01,  5.44160265e-01,  3.93114345e-01,  1.78861034e-01,\n",
       "        6.16167124e-01,  6.77650730e-01,  1.36749067e-01,  1.19428212e-01,\n",
       "        3.12246604e-02,  4.28447068e-01,  3.04075863e-02,  7.79873083e-01,\n",
       "        8.06809107e-01,  1.36125945e-01,  3.32297215e-01,  1.01216445e-01,\n",
       "        7.65337575e-01,  5.52224614e-01,  4.33510415e-01,  2.85627454e-01,\n",
       "        7.37539379e-01,  8.70958853e-01,  2.64194762e-01,  3.33954485e-02,\n",
       "        6.99923056e-02,  1.35961684e-01,  5.54725760e-02,  9.93204579e-01,\n",
       "        1.88890791e-01,  2.51971363e-01,  1.82219536e-01,  6.70560856e-01,\n",
       "        5.03786081e-01,  7.80941072e-01,  6.97029358e-01,  3.23710002e-01,\n",
       "        4.24243278e-01,  7.28101492e-01,  6.57320923e-01,  1.62407726e-01,\n",
       "        6.24342790e-01,  4.40429650e-01,  9.80769720e-01,  4.82498867e-01,\n",
       "        1.01179042e-01,  6.81763077e-01,  2.64910731e-01,  6.57274610e-01,\n",
       "        2.00919107e-01,  2.09571644e-01,  3.04306281e-01,  1.01085541e-01,\n",
       "        2.62224696e-01,  5.47201437e-02,  6.37466905e-01,  6.96984961e-01,\n",
       "        6.15787707e-01,  3.90285634e-01,  6.23923893e-01,  1.00999344e-01,\n",
       "        8.96311579e-01,  1.01091562e-01,  4.62803289e-01,  1.35820488e-01,\n",
       "        6.11538540e-01,  1.09431897e-01,  6.83642139e-01,  8.30417407e-02,\n",
       "        8.20810517e-01,  2.40658300e-01,  1.00933419e-01,  1.29164952e-01,\n",
       "        6.47003345e-01,  1.21439675e-01,  1.62199662e-01,  1.00907690e-01,\n",
       "        1.01261328e-01,  3.40727279e-01,  1.92835894e-01,  6.15680236e-01,\n",
       "        9.06937135e-01,  6.93262063e-01,  7.50610533e-01,  1.35646045e-01,\n",
       "        1.00372126e-01,  7.49086098e-01,  4.08362474e-01,  7.42134689e-01,\n",
       "        8.99421013e-01,  5.20358169e-02,  8.74410673e-01,  1.15653103e-01,\n",
       "        1.00820209e-01,  6.91915264e-01,  1.55480809e-01,  5.23765173e-01,\n",
       "        1.85374055e-01,  1.42346898e-01,  8.94888319e-02,  2.78559577e-01,\n",
       "        5.64239390e-01,  5.14848152e-02,  1.67380037e-02,  1.42243035e-01,\n",
       "        1.25486810e-01,  2.91033581e-01,  6.63689444e-01, -8.46174371e-02,\n",
       "        4.91084807e-01,  9.71291070e-01,  2.20585507e-01,  2.82635386e-01,\n",
       "        3.50438558e-01, -4.66722464e-02,  4.37342293e-01,  1.55467501e-01,\n",
       "        4.27896454e-01,  2.06109947e-01,  9.97335551e-01,  1.00735618e-01,\n",
       "       -8.86331671e-02,  5.50303991e-01, -5.71972188e-04,  1.42026722e-01,\n",
       "        1.02381914e+00,  6.63518685e-01,  3.50366515e-01,  6.16932591e-01,\n",
       "        6.15410976e-01,  1.93895672e-01,  8.05873559e-01,  1.00339946e-01,\n",
       "        1.91795417e-01,  5.85658679e-01,  3.19611750e-01,  6.50413434e-02,\n",
       "        9.43012210e-01,  6.70476681e-01,  1.00508944e-01,  1.22003395e-01,\n",
       "        1.02113067e-01,  1.00373924e-01, -7.60985166e-02,  8.59021859e-01,\n",
       "        8.54107931e-01,  2.32959271e-01,  7.05786003e-01,  7.11833601e-01,\n",
       "        2.64385846e-01,  3.41101343e-01,  9.84681027e-01,  1.00516599e-01,\n",
       "        9.83202453e-01,  1.99412254e-01,  8.27097345e-01,  9.06950786e-02,\n",
       "        2.18948181e-01,  1.98273383e-01,  1.93954008e-01,  4.27470160e-01,\n",
       "        1.63728375e-01,  5.92715901e-02,  3.87965191e-01,  8.24747448e-02,\n",
       "        5.99285797e-01,  6.96316400e-01,  3.09607619e-01,  6.15351636e-01,\n",
       "        6.18100272e-01,  2.71759000e-01,  3.43223104e-01,  8.65959841e-01,\n",
       "        2.96363513e-01,  4.27301832e-01,  5.83948313e-01,  3.02954690e-01,\n",
       "        9.24787428e-01,  1.35271128e-01,  9.44728929e-02,  1.00111580e-01,\n",
       "        3.72659294e-01,  5.36845908e-01,  3.39934292e-01,  3.56018756e-01,\n",
       "        6.15177190e-01,  2.39241606e-01,  8.17648149e-01,  1.00443175e-01,\n",
       "        7.30482366e-01,  1.61693317e-01,  8.30872976e-01,  1.61588269e-01,\n",
       "        7.92470284e-01,  5.88913860e-01,  1.48359601e-01,  6.15072424e-01,\n",
       "        3.54562785e-02,  2.24494006e-01,  3.89218032e-01,  1.00351202e+00,\n",
       "        1.12257535e-01,  1.00307464e-01,  3.37670329e-01,  1.68154902e-01,\n",
       "        1.73973300e-01,  1.67910068e-01,  7.94867673e-01,  8.06066813e-01,\n",
       "        7.79277229e-01,  6.57128918e-01,  3.07072775e-01,  1.00259099e-01,\n",
       "        2.82922291e-02,  3.17161151e-01,  8.34663479e-01,  1.28749222e-01,\n",
       "        7.41470864e-01,  5.68658457e-01,  8.98663647e-01,  1.68098959e-01,\n",
       "        4.41271488e-01,  1.42184075e-01,  8.60879349e-02,  1.00071540e-01,\n",
       "        1.00140947e-01,  1.15261759e-01,  8.51439474e-01,  1.61395262e-01,\n",
       "        1.37755922e-02,  1.61414493e-01,  7.60117356e-01,  7.46651137e-01,\n",
       "        2.63855739e-01,  1.00148982e-01,  4.17392394e-01,  1.00009789e-01,\n",
       "        6.14973269e-01,  1.88101089e-01,  3.41514144e-01,  1.00063758e-01,\n",
       "        9.62557430e-01,  5.68924789e-01,  9.98526199e-02,  8.00791459e-01,\n",
       "        2.76173162e-01,  1.53866623e-01,  2.18063815e-01,  3.15797414e-01,\n",
       "        6.63187039e-01,  2.34021245e-01,  6.14789398e-01,  6.94836884e-01,\n",
       "        7.42929441e-01,  6.19665435e-02,  9.98001878e-02,  4.40591018e-01,\n",
       "        9.97821425e-02,  1.00082960e-01,  4.32030281e-01,  6.16245774e-01,\n",
       "        9.97615588e-02,  2.34334568e-01,  6.27589455e-02,  1.28221964e-01,\n",
       "        9.03053410e-01,  7.52258537e-03,  4.35989311e-01,  1.08366028e-01,\n",
       "        8.85115147e-02,  2.62724887e-01,  1.66372644e-01,  1.41679823e-01,\n",
       "        6.14676187e-01,  6.55765445e-01,  3.97716754e-01,  2.80509278e-01,\n",
       "        2.25383737e-01,  4.70922438e-01,  1.81283492e-01,  1.54316040e-01,\n",
       "        9.97875415e-02,  5.70184469e-01,  8.19122149e-01,  7.02300251e-01,\n",
       "        2.46375002e-01,  3.35421713e-01,  1.21481486e-01,  2.25819926e-01,\n",
       "        1.28048286e-01,  1.34446301e-01,  2.90081585e-01,  4.08976971e-01,\n",
       "        9.52996205e-01,  1.47572149e-01,  7.94946513e-01,  3.42696331e-01,\n",
       "        2.26276945e-01,  3.23078638e-01,  6.39367231e-01,  3.70470316e-01,\n",
       "        9.95541562e-02,  6.28698291e-01,  1.21414658e-01,  4.28530046e-01,\n",
       "        2.50369852e-01,  1.29083492e-02,  3.03501968e-01,  9.95197003e-02,\n",
       "        3.41909972e-01,  8.82275449e-02, -5.63982545e-02,  9.25089620e-01,\n",
       "        3.89229173e-02,  7.08721437e-01,  2.89958082e-01,  5.63208758e-01,\n",
       "        3.03347402e-01,  7.74673914e-01,  8.43580141e-01,  2.95607062e-01,\n",
       "        3.65332249e-01,  7.95907217e-02,  7.40312954e-01,  2.96294828e-01,\n",
       "        6.63510419e-01,  9.96693691e-02,  9.96160623e-02,  5.70301777e-01,\n",
       "       -1.92515732e-01,  7.63542897e-01,  7.74607017e-01,  1.21551223e-01,\n",
       "        9.38371061e-01,  4.58265634e-01,  5.32756667e-02,  6.80910911e-01,\n",
       "        8.42012010e-01,  2.70339823e-01,  2.73508682e-01,  9.76965138e-01,\n",
       "        2.93122141e-01,  1.70900073e-01,  7.42093378e-01,  9.32118932e-01,\n",
       "        5.71699986e-01,  3.22272490e-01,  2.72089693e-01,  5.11231140e-02,\n",
       "        9.95028519e-02,  1.27773226e-01,  6.16790951e-01,  6.43056059e-01,\n",
       "        2.61488583e-01,  7.59373671e-01,  1.40921885e-01,  8.49420357e-02,\n",
       "        1.60722119e-01,  1.03902262e-01,  4.99654784e-01,  7.94798716e-01,\n",
       "        1.89250976e-01,  1.50045404e-01, -4.77214876e-02,  9.86157005e-01,\n",
       "        1.40674725e-01,  7.80623798e-01,  1.54073364e-01,  9.45931388e-02,\n",
       "        9.94742084e-01,  1.64577946e-01,  9.93789192e-01,  5.21931403e-01,\n",
       "        2.94130602e-01,  3.29615670e-01,  2.59737436e-01,  3.01893323e-01,\n",
       "        6.14130126e-01,  7.33279928e-01,  6.14130719e-01,  8.71731857e-01,\n",
       "        6.29143876e-01,  9.94448650e-02,  9.14348227e-01,  4.47810357e-02,\n",
       "        9.94294273e-02,  4.14765431e-02])"
      ]
     },
     "execution_count": 51,
     "metadata": {},
     "output_type": "execute_result"
    }
   ],
   "source": [
    "predict"
   ]
  },
  {
   "cell_type": "code",
   "execution_count": 52,
   "metadata": {},
   "outputs": [],
   "source": [
    "PassengerId = test.PassengerId"
   ]
  },
  {
   "cell_type": "code",
   "execution_count": 53,
   "metadata": {},
   "outputs": [],
   "source": [
    "submission = pd.DataFrame({\"PassengerId\": PassengerId, \"Survived\": predict})"
   ]
  },
  {
   "cell_type": "code",
   "execution_count": 54,
   "metadata": {},
   "outputs": [
    {
     "data": {
      "text/html": [
       "<div>\n",
       "<style scoped>\n",
       "    .dataframe tbody tr th:only-of-type {\n",
       "        vertical-align: middle;\n",
       "    }\n",
       "\n",
       "    .dataframe tbody tr th {\n",
       "        vertical-align: top;\n",
       "    }\n",
       "\n",
       "    .dataframe thead th {\n",
       "        text-align: right;\n",
       "    }\n",
       "</style>\n",
       "<table border=\"1\" class=\"dataframe\">\n",
       "  <thead>\n",
       "    <tr style=\"text-align: right;\">\n",
       "      <th></th>\n",
       "      <th>PassengerId</th>\n",
       "      <th>Survived</th>\n",
       "    </tr>\n",
       "  </thead>\n",
       "  <tbody>\n",
       "    <tr>\n",
       "      <th>0</th>\n",
       "      <td>892</td>\n",
       "      <td>0.073559</td>\n",
       "    </tr>\n",
       "    <tr>\n",
       "      <th>1</th>\n",
       "      <td>893</td>\n",
       "      <td>0.456644</td>\n",
       "    </tr>\n",
       "    <tr>\n",
       "      <th>2</th>\n",
       "      <td>894</td>\n",
       "      <td>0.052655</td>\n",
       "    </tr>\n",
       "    <tr>\n",
       "      <th>3</th>\n",
       "      <td>895</td>\n",
       "      <td>0.123404</td>\n",
       "    </tr>\n",
       "    <tr>\n",
       "      <th>4</th>\n",
       "      <td>896</td>\n",
       "      <td>0.609284</td>\n",
       "    </tr>\n",
       "    <tr>\n",
       "      <th>...</th>\n",
       "      <td>...</td>\n",
       "      <td>...</td>\n",
       "    </tr>\n",
       "    <tr>\n",
       "      <th>413</th>\n",
       "      <td>1305</td>\n",
       "      <td>0.099445</td>\n",
       "    </tr>\n",
       "    <tr>\n",
       "      <th>414</th>\n",
       "      <td>1306</td>\n",
       "      <td>0.914348</td>\n",
       "    </tr>\n",
       "    <tr>\n",
       "      <th>415</th>\n",
       "      <td>1307</td>\n",
       "      <td>0.044781</td>\n",
       "    </tr>\n",
       "    <tr>\n",
       "      <th>416</th>\n",
       "      <td>1308</td>\n",
       "      <td>0.099429</td>\n",
       "    </tr>\n",
       "    <tr>\n",
       "      <th>417</th>\n",
       "      <td>1309</td>\n",
       "      <td>0.041477</td>\n",
       "    </tr>\n",
       "  </tbody>\n",
       "</table>\n",
       "<p>418 rows × 2 columns</p>\n",
       "</div>"
      ],
      "text/plain": [
       "     PassengerId  Survived\n",
       "0            892  0.073559\n",
       "1            893  0.456644\n",
       "2            894  0.052655\n",
       "3            895  0.123404\n",
       "4            896  0.609284\n",
       "..           ...       ...\n",
       "413         1305  0.099445\n",
       "414         1306  0.914348\n",
       "415         1307  0.044781\n",
       "416         1308  0.099429\n",
       "417         1309  0.041477\n",
       "\n",
       "[418 rows x 2 columns]"
      ]
     },
     "execution_count": 54,
     "metadata": {},
     "output_type": "execute_result"
    }
   ],
   "source": [
    "submission"
   ]
  },
  {
   "cell_type": "code",
   "execution_count": null,
   "metadata": {},
   "outputs": [],
   "source": []
  }
 ],
 "metadata": {
  "kernelspec": {
   "display_name": "Python 3",
   "language": "python",
   "name": "python3"
  },
  "language_info": {
   "codemirror_mode": {
    "name": "ipython",
    "version": 3
   },
   "file_extension": ".py",
   "mimetype": "text/x-python",
   "name": "python",
   "nbconvert_exporter": "python",
   "pygments_lexer": "ipython3",
   "version": "3.7.6"
  }
 },
 "nbformat": 4,
 "nbformat_minor": 4
}
